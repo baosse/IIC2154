{
 "cells": [
  {
   "cell_type": "markdown",
   "metadata": {},
   "source": [
    "# Evaluación Diagóstica\n",
    "\n",
    "Para realizar esta evaluación, partiremos importando las librerías que serán necesarias para poder correr el código."
   ]
  },
  {
   "cell_type": "code",
   "execution_count": 1,
   "metadata": {},
   "outputs": [],
   "source": [
    "import pandas as pd\n",
    "from pandas.io.json import json_normalize\n",
    "from datetime import datetime\n",
    "import warnings\n",
    "warnings.filterwarnings(\"ignore\")"
   ]
  },
  {
   "cell_type": "markdown",
   "metadata": {},
   "source": [
    "Realizado esto, procederemos a crear las funciones que nos servirán para poder obtener la información relevante para nosotros. Estas son:\n",
    "-  ```top10users```: la cual recibe un dataframe e imprime los diez usuarios que han realizado más tweets.\n",
    "- ```top10retweeted```: la cual recibe un dataframe e imprime los diez tweets que han sido más retweeteados.\n",
    "- ```top10fechas```: la cual recibe un dataframe e imprime los diez días en que han habido más tweets."
   ]
  },
  {
   "cell_type": "code",
   "execution_count": 2,
   "metadata": {},
   "outputs": [],
   "source": [
    "def top10retweet(dataframe):\n",
    "  top10 = dataframe.sort_values(by='retweetCount', ascending=False).head(10)\n",
    "  print('Top 10 más retweeted')\n",
    "  for i in top10['content']:\n",
    "    print(\"\\t\", i)"
   ]
  },
  {
   "cell_type": "code",
   "execution_count": 3,
   "metadata": {},
   "outputs": [],
   "source": [
    "def top10users(dataframe):\n",
    "  top10 = dataframe.groupby(['username']).size()\n",
    "  top10 = top10.sort_values(ascending=False).head(10)\n",
    "  print(\"Top 10 usuarios\")\n",
    "  for i in top10.keys():\n",
    "    print(\"\\t\", i)"
   ]
  },
  {
   "cell_type": "code",
   "execution_count": 4,
   "metadata": {},
   "outputs": [],
   "source": [
    "def top10fechas(dataframe):\n",
    "  top10 = dataframe.groupby(dataframe['date'].dt.date).size()\n",
    "  print(\"Top 10 días con más tweets\")\n",
    "  for i in top10.sort_values(ascending=False).head(10).keys():\n",
    "    print(\"\\t\", i)"
   ]
  },
  {
   "cell_type": "markdown",
   "metadata": {},
   "source": [
    "Con estas funciones creadas, se procederá a crear la función ```main``` que será la encargada de ejecutar nuestro programa, incluyendo las funciones anteriores."
   ]
  },
  {
   "cell_type": "code",
   "execution_count": 7,
   "metadata": {},
   "outputs": [],
   "source": [
    "def main(dataframe):\n",
    "  raw_tweets = pd.read_json(dataframe, lines=True)\n",
    "  raw_tweets = raw_tweets[raw_tweets['lang']=='en']\n",
    "  users = json_normalize(raw_tweets['user'])\n",
    "  users.drop(['description', 'linkTcourl'], axis=1, inplace=True)\n",
    "  users.rename(columns={'id':'userId', 'url':'profileUrl'}, inplace=True)\n",
    "  top10retweet(raw_tweets)\n",
    "  top10users(users)\n",
    "  top10fechas(raw_tweets)  "
   ]
  },
  {
   "cell_type": "code",
   "execution_count": 8,
   "metadata": {},
   "outputs": [
    {
     "name": "stdout",
     "output_type": "stream",
     "text": [
      "Top 10 más retweeted\n",
      "\t why aren’t we talking about this?! #FarmersProtest https://t.co/obmIlXhK9S\n",
      "\t We stand in solidarity with the #FarmersProtest in India.\n",
      " https://t.co/tqvR0oHgo0\n",
      "\t I still #StandWithFarmers and support their peaceful protest.\n",
      "No amount of hate, threats or violations of human rights will ever change that. #FarmersProtest\n",
      "\t “Paid actors,” huh? Quite the casting director, I hope they’re not overlooked during awards season. I stand with the farmers. #FarmersProtest https://t.co/moONj03tN0\n",
      "\t What in the human rights violations is going on?! They cut the internet around New Delhi?! #FarmersProtest https://t.co/a5ml1P2ikU\n",
      "\t Happy to share that I’ve donated $10,000 to provide medical assistance to the farmers in need in India to help save lives during these times. I hope we can prevent any additional life from being lost. 🙏🏾 #FarmersProtest https://t.co/0WoEw0l3ij\n",
      "\t There has been much social media coverage around the #FarmersProtest in #India. Very useful guide to the legislation and the impact on farmers. 1/2 https://t.co/3CsdgBebdZ\n",
      "\t Farmers feed the world. Fight for them. Protect them #FarmersProtest\n",
      "\t Should be talking about this! #FarmersProtest\n",
      "\n",
      "https://t.co/Xh09iTvVoF\n",
      "\t To all of my influencer/celeb friends- read up on this   #FarmersProtest 👀\n",
      "Top 10 usuarios\n",
      "\t harjot_tweeting\n",
      "\t tasveersandhu\n",
      "\t shells_n_petals\n",
      "\t jot__b\n",
      "\t rebelpacifist\n",
      "\t rumsomal\n",
      "\t Iamjazzie96\n",
      "\t Jass_k_G\n",
      "\t DigitalKisanBot\n",
      "\t z_khalique007\n",
      "Top 10 días con más tweets\n",
      "\t 2021-02-03\n",
      "\t 2021-02-04\n",
      "\t 2021-02-05\n",
      "\t 2021-02-02\n",
      "\t 2021-02-06\n",
      "\t 2021-02-07\n",
      "\t 2021-02-09\n",
      "\t 2021-02-08\n",
      "\t 2021-02-10\n",
      "\t 2021-02-11\n"
     ]
    }
   ],
   "source": [
    "main(\"farmers-protest-tweets-2021-03-5.json\")"
   ]
  }
 ],
 "metadata": {
  "interpreter": {
   "hash": "e7204a1cb529dd8109c75068c797d46a9574178e8baafc20f812d2a6d5845cda"
  },
  "kernelspec": {
   "display_name": "Python 3.7.8 64-bit",
   "language": "python",
   "name": "python3"
  },
  "language_info": {
   "codemirror_mode": {
    "name": "ipython",
    "version": 3
   },
   "file_extension": ".py",
   "mimetype": "text/x-python",
   "name": "python",
   "nbconvert_exporter": "python",
   "pygments_lexer": "ipython3",
   "version": "3.7.8"
  },
  "orig_nbformat": 4
 },
 "nbformat": 4,
 "nbformat_minor": 2
}
